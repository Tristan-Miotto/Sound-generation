{
 "cells": [
  {
   "cell_type": "code",
   "execution_count": 13,
   "id": "05b257e6-becb-4bb6-9d77-bb74fe699718",
   "metadata": {},
   "outputs": [],
   "source": [
    "%reset -f\n",
    "import librosa as lb\n",
    "import numpy as np\n",
    "import matplotlib.pyplot as plt\n",
    "from sklearn.model_selection import train_test_split"
   ]
  },
  {
   "cell_type": "markdown",
   "id": "95e132cb-0795-4a56-95a7-66f8f99482db",
   "metadata": {},
   "source": [
    "# Summary"
   ]
  },
  {
   "cell_type": "markdown",
   "id": "9ec7238c-1fad-4b5d-bf10-c74c69f37200",
   "metadata": {},
   "source": [
    "**1 – Importing MNIST data**\n",
    "\n",
    "**2 – Signal to mel spectrogram**\n",
    "\n",
    "**3 – Min / max normalisation**\n",
    "\n",
    "**4 – Splitting data**\n",
    "\n",
    "**5 – Saving data**"
   ]
  },
  {
   "cell_type": "markdown",
   "id": "e18d7133-76c6-4e8d-b649-03342d209c14",
   "metadata": {},
   "source": [
    "# 1 – Importing MNIST data"
   ]
  },
  {
   "cell_type": "markdown",
   "id": "71cec506-3f40-4688-86f7-5d152a8004bb",
   "metadata": {},
   "source": [
    "We will use the [Audio MNIST](https://www.kaggle.com/datasets/sripaadsrinivasan/audio-mnist) dataset available in Kaggle. It consists of 30000 audio samples of spoken digits (0-9). More precisely, we must deal with 60 folders. One folder corresponds to one person. This person is pronouncing each number 50 times. Then, each folder contains 500 files."
   ]
  },
  {
   "cell_type": "code",
   "execution_count": 14,
   "id": "d21f43e7-3c5f-44a2-9f63-2bb50b8be953",
   "metadata": {},
   "outputs": [],
   "source": [
    "n_folders = 60\n",
    "m = 50 #each person pronounces each number m times\n",
    "list_signals, list_sr = [], [] #data (sr stands for sample rate)\n",
    "\n",
    "for n in range(n_folders): #we go through each folder (<=> each person)  \n",
    "    for digit in range(10): #we look at each digit\n",
    "        for i in range(m):\n",
    "            \n",
    "            #building the path name (example : \"MNIST/08/4_08_27.wav\")\n",
    "            n_str = str(n+1) #converting to string (the first folder is 01, not 0\")\n",
    "            if n < 9: #we need to add a \"0\" before\n",
    "                n_str = \"0\" + n_str\n",
    "            path = \"MNIST/\" + n_str + \"/\" + str(digit) + \"_\" + n_str + \"_\" + str(i) + \".wav\"\n",
    "            \n",
    "            signal, sr = lb.load(path) #we extract the audio \n",
    "            list_signals.append(signal)\n",
    "            list_sr.append(sr)"
   ]
  },
  {
   "cell_type": "code",
   "execution_count": 15,
   "id": "2e7bb2d5-062c-4246-b500-16309ab6c3f1",
   "metadata": {},
   "outputs": [
    {
     "name": "stdout",
     "output_type": "stream",
     "text": [
      "number of data (expected 30'000) : 30000\n",
      "list of sample rates :  {22050}\n",
      "size of the signals : from 6465 to 22050\n",
      "=> 0.293 second to 1.0 second\n"
     ]
    }
   ],
   "source": [
    "n_data = len(list_signals)\n",
    "print(\"number of data (expected 30'000) :\", n_data)\n",
    "\n",
    "print(\"list of sample rates : \", set(list_sr))\n",
    "sr = list_sr[0]\n",
    "\n",
    "size_signals = [len(signal) for signal in list_signals]\n",
    "print(\"size of the signals : from\", min(size_signals), \"to\", max(size_signals))\n",
    "print(\"=>\", round(min(size_signals)/sr, 3), \"second to\", round(max(size_signals)/sr, 3), \"second\")\n",
    "#each audio doesn't surpass 1 second (sr=22050 samples)"
   ]
  },
  {
   "cell_type": "markdown",
   "id": "c46cc7ff-54d2-45c9-832f-6683e3a8132c",
   "metadata": {},
   "source": [
    "# 2 – Signal to mel spectrogram"
   ]
  },
  {
   "cell_type": "markdown",
   "id": "0cc3e6a3-d567-4b9b-9e7e-a7dd275b2c13",
   "metadata": {},
   "source": [
    "Here, we transform signals to **mel spectrograms**. They represent sounds with a frequency scale that more closely resembles how humans perceive pitch. We set the dimensions (*width*, *height*) of each mel spectrogram."
   ]
  },
  {
   "cell_type": "code",
   "execution_count": 16,
   "id": "ed30ed5f-b902-4c06-a65d-fc2473228a97",
   "metadata": {},
   "outputs": [],
   "source": [
    "width = 50\n",
    "height = 50\n",
    "\n",
    "hop_length = int((sr+1) / width) + 1 #parameter of the transformation\n",
    "x = np.zeros((n_data, width, height)) #input data that will contain mel spectrograms\n",
    "\n",
    "for i in range(n_data):\n",
    "    signal = np.zeros(sr)\n",
    "    signal[:len(list_signals[i])] = np.array(list_signals[i])\n",
    "    #if the sound duration is less than 1 second, we add 0s at the end\n",
    "    \n",
    "    S = lb.feature.melspectrogram(y=signal, sr=sr, hop_length=hop_length, n_mels=height)\n",
    "    S = lb.power_to_db(S)\n",
    "    x[i, :, :] = S"
   ]
  },
  {
   "cell_type": "markdown",
   "id": "659b39dd-de73-4118-b012-e399a0d1b78e",
   "metadata": {},
   "source": [
    "Now, let's look at a random mel spectrogram."
   ]
  },
  {
   "cell_type": "code",
   "execution_count": 17,
   "id": "c8f2609c-3710-4e15-8c5e-105d1ad53661",
   "metadata": {},
   "outputs": [
    {
     "data": {
      "text/plain": [
       "<matplotlib.collections.QuadMesh at 0x252e8c58bf0>"
      ]
     },
     "execution_count": 17,
     "metadata": {},
     "output_type": "execute_result"
    },
    {
     "data": {
      "image/png": "[encoded data removed]",
      "text/plain": [
       "<Figure size 640x480 with 1 Axes>"
      ]
     },
     "metadata": {},
     "output_type": "display_data"
    }
   ],
   "source": [
    "random_index = np.random.randint(n_data)\n",
    "lb.display.specshow(x[random_index])"
   ]
  },
  {
   "cell_type": "markdown",
   "id": "84dd1f8b-e261-4ad6-87ae-a2a22793f007",
   "metadata": {},
   "source": [
    "# 3 – Min / max normalisation"
   ]
  },
  {
   "cell_type": "code",
   "execution_count": 18,
   "id": "ea2bbb67-0043-4580-a175-b8ebf499ce32",
   "metadata": {},
   "outputs": [],
   "source": [
    "min_values = np.min(x, axis=0)\n",
    "max_values = np.max(x, axis=0)\n",
    "x = (x-min_values) / (max_values-min_values) #each coefficient is between 0 and 1"
   ]
  },
  {
   "cell_type": "markdown",
   "id": "4235c0ce-5f9c-4575-8605-4dc1d87ec829",
   "metadata": {},
   "source": [
    "# 4 – Splitting data"
   ]
  },
  {
   "cell_type": "markdown",
   "id": "f567df91-7f85-46a6-8d38-f8f7f379ba3c",
   "metadata": {},
   "source": [
    "Here, we mustn't shuffle the data. Otherwise, some people will appear in both datasets. We want the model to handle voices it has never heard before."
   ]
  },
  {
   "cell_type": "code",
   "execution_count": 19,
   "id": "168a3f64-61f1-49fc-ba84-22c09367fd3e",
   "metadata": {},
   "outputs": [],
   "source": [
    "x_train = x[:int(0.75*n_data)] #75% train\n",
    "x_test = x[int(0.75*n_data):] #25% test"
   ]
  },
  {
   "cell_type": "markdown",
   "id": "328530bb-2b4a-48ed-92ce-1b3bae8e3bd4",
   "metadata": {},
   "source": [
    "# 5 – Saving data"
   ]
  },
  {
   "cell_type": "markdown",
   "id": "94b5809a-1ced-46df-9da0-ecbf28be2240",
   "metadata": {},
   "source": [
    "Finally, we save data in the *data* folder."
   ]
  },
  {
   "cell_type": "code",
   "execution_count": 20,
   "id": "f0032d11-35a9-4ac8-94e0-7721551d3096",
   "metadata": {},
   "outputs": [],
   "source": [
    "np.save(\"data/x_train\", x_train)\n",
    "np.save(\"data/x_test\", x_test)\n",
    "np.save(\"data/min_values\", min_values)\n",
    "np.save(\"data/max_values\", max_values)"
   ]
  }
 ],
 "metadata": {
  "kernelspec": {
   "display_name": "Python 3 (ipykernel)",
   "language": "python",
   "name": "python3"
  },
  "language_info": {
   "codemirror_mode": {
    "name": "ipython",
    "version": 3
   },
   "file_extension": ".py",
   "mimetype": "text/x-python",
   "name": "python",
   "nbconvert_exporter": "python",
   "pygments_lexer": "ipython3",
   "version": "3.12.3"
  }
 },
 "nbformat": 4,
 "nbformat_minor": 5
}
