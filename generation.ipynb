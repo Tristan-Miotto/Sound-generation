{
 "cells": [
  {
   "cell_type": "code",
   "execution_count": 49,
   "id": "558781b1-3d11-4130-84b8-58caa8572d43",
   "metadata": {
    "executionInfo": {
     "elapsed": 3313,
     "status": "ok",
     "timestamp": 1728560257219,
     "user": {
      "displayName": "Tristan",
      "userId": "00489616346202208185"
     },
     "user_tz": -120
    },
    "id": "558781b1-3d11-4130-84b8-58caa8572d43"
   },
   "outputs": [],
   "source": [
    "%reset -f\n",
    "import numpy as np\n",
    "import pandas as pd\n",
    "import tensorflow as tf\n",
    "import tensorflow.keras as kr\n",
    "import librosa as lb\n",
    "from IPython.display import Audio"
   ]
  },
  {
   "cell_type": "markdown",
   "id": "bc1458ec-515b-4d98-bac3-024e52878885",
   "metadata": {},
   "source": [
    "# Summary"
   ]
  },
  {
   "cell_type": "markdown",
   "id": "4ef14f12-1e11-4936-b372-a816e50b547a",
   "metadata": {},
   "source": [
    "**1 – Loading preprocessed data**\n",
    "\n",
    "**2 – Building the VAE**\n",
    "\n",
    "- 2.1 – Encoder part\n",
    "- 2.2 – Decoder part\n",
    "- 2.3 – VAE\n",
    "\n",
    "**3 – Training the VAE**\n",
    "\n",
    "**4 – Sound generation**"
   ]
  },
  {
   "cell_type": "markdown",
   "id": "14812ce8-d1fb-4bb4-9a3a-2b1a93011e78",
   "metadata": {
    "id": "14812ce8-d1fb-4bb4-9a3a-2b1a93011e78"
   },
   "source": [
    "# 1 – Loading preprocessed data"
   ]
  },
  {
   "cell_type": "markdown",
   "id": "eb07814c-80a7-4717-9e0e-7cf8110eda53",
   "metadata": {},
   "source": [
    "First, we load data from the *data* folder. Additionally, we manually set some important variables."
   ]
  },
  {
   "cell_type": "code",
   "execution_count": 50,
   "id": "0fd6cf3d-1030-450f-b805-25ade4e8c736",
   "metadata": {
    "id": "rmFRWNJROCJp"
   },
   "outputs": [],
   "source": [
    "x_train = np.load(\"data/x_train.npy\")\n",
    "x_test = np.load(\"data/x_test.npy\")\n",
    "min_values = np.load(\"data/min_values.npy\")\n",
    "max_values = np.load(\"data/max_values.npy\")\n",
    "\n",
    "width = 50\n",
    "height = 50\n",
    "sr = 22050 #sample rate\n",
    "hop_length = int((sr+1) / width) + 1 #parameter of the transformation"
   ]
  },
  {
   "cell_type": "code",
   "execution_count": 51,
   "id": "be0a5aaa-642e-4c2d-906d-b1102c72662a",
   "metadata": {
    "colab": {
     "base_uri": "https://localhost:8080/",
     "height": 125
    },
    "executionInfo": {
     "elapsed": 50,
     "status": "ok",
     "timestamp": 1728560335808,
     "user": {
      "displayName": "Tristan",
      "userId": "00489616346202208185"
     },
     "user_tz": -120
    },
    "id": "be0a5aaa-642e-4c2d-906d-b1102c72662a",
    "outputId": "7089a427-8a66-452c-b572-4d4a7d833d5e"
   },
   "outputs": [
    {
     "data": {
      "text/html": [
       "<div>\n",
       "<style scoped>\n",
       "    .dataframe tbody tr th:only-of-type {\n",
       "        vertical-align: middle;\n",
       "    }\n",
       "\n",
       "    .dataframe tbody tr th {\n",
       "        vertical-align: top;\n",
       "    }\n",
       "\n",
       "    .dataframe thead th {\n",
       "        text-align: right;\n",
       "    }\n",
       "</style>\n",
       "<table border=\"1\" class=\"dataframe\">\n",
       "  <thead>\n",
       "    <tr style=\"text-align: right;\">\n",
       "      <th></th>\n",
       "      <th>number of mel spectrograms</th>\n",
       "      <th>height</th>\n",
       "      <th>width</th>\n",
       "    </tr>\n",
       "  </thead>\n",
       "  <tbody>\n",
       "    <tr>\n",
       "      <th>train data</th>\n",
       "      <td>22500</td>\n",
       "      <td>50</td>\n",
       "      <td>50</td>\n",
       "    </tr>\n",
       "    <tr>\n",
       "      <th>test data</th>\n",
       "      <td>7500</td>\n",
       "      <td>50</td>\n",
       "      <td>50</td>\n",
       "    </tr>\n",
       "  </tbody>\n",
       "</table>\n",
       "</div>"
      ],
      "text/plain": [
       "            number of mel spectrograms  height  width\n",
       "train data                       22500      50     50\n",
       "test data                         7500      50     50"
      ]
     },
     "execution_count": 51,
     "metadata": {},
     "output_type": "execute_result"
    }
   ],
   "source": [
    "data = [x_train.shape, x_test.shape]\n",
    "index = [\"train data\", \"test data\"]\n",
    "columns = [\"number of mel spectrograms\", \"height\", \"width\"]\n",
    "df = pd.DataFrame(data, index=index, columns=columns)\n",
    "df"
   ]
  },
  {
   "cell_type": "markdown",
   "id": "21e7d993-06c1-4402-8e34-091902995a3a",
   "metadata": {
    "id": "21e7d993-06c1-4402-8e34-091902995a3a"
   },
   "source": [
    "# 2 – Building the VAE"
   ]
  },
  {
   "cell_type": "markdown",
   "id": "00661004-1c91-4936-81a4-ec6e78903e57",
   "metadata": {},
   "source": [
    "In order to generate virtual voices, we will build a variational autoencoder (VAE)."
   ]
  },
  {
   "cell_type": "markdown",
   "id": "13bc0e8c-b5a6-4260-bee4-38e71a659168",
   "metadata": {
    "id": "13bc0e8c-b5a6-4260-bee4-38e71a659168"
   },
   "source": [
    "### 2.1 – Encoder part"
   ]
  },
  {
   "cell_type": "markdown",
   "id": "df3300f8-6b38-4b60-b10c-18d0d25cca14",
   "metadata": {},
   "source": [
    "We chose to use 2 convolutional layers, with downsampling. Then, we set 2 dense layers before creating the latent space of size $d=20$. The encoder should return the latent space but also 2 dense layers *dense_mean* and *dense_log_std* of size $d$. They respectively contain every $\\mu_i$ and $\\log (\\sigma^2_i)$, where $1 \\leq i \\leq d$."
   ]
  },
  {
   "cell_type": "code",
   "execution_count": 52,
   "id": "c24326c3-3e26-4e32-9817-12d61365baf4",
   "metadata": {
    "executionInfo": {
     "elapsed": 12,
     "status": "ok",
     "timestamp": 1728560335808,
     "user": {
      "displayName": "Tristan",
      "userId": "00489616346202208185"
     },
     "user_tz": -120
    },
    "id": "c24326c3-3e26-4e32-9817-12d61365baf4"
   },
   "outputs": [],
   "source": [
    "def sampling(mean_log_std): #used to create the latent space regarding dense_mean and dense_log_std\n",
    "    mean, log_std = mean_log_std\n",
    "    return mean + tf.random.normal(tf.shape(mean)) * tf.math.exp(log_std/2)"
   ]
  },
  {
   "cell_type": "code",
   "execution_count": 53,
   "id": "fd818673-6e0d-4b9b-9003-f9fbf5f86e5e",
   "metadata": {
    "executionInfo": {
     "elapsed": 1450,
     "status": "ok",
     "timestamp": 1728560337247,
     "user": {
      "displayName": "Tristan",
      "userId": "00489616346202208185"
     },
     "user_tz": -120
    },
    "id": "fd818673-6e0d-4b9b-9003-f9fbf5f86e5e"
   },
   "outputs": [],
   "source": [
    "input = kr.Input(shape=(height, width, 1))\n",
    "\n",
    "x = kr.layers.Conv2D(40, (3, 3), strides=(1, 1), activation=\"relu\")(input) #(48, 48, 40)\n",
    "x = kr.layers.AveragePooling2D((2, 2))(x) #(24, 24, 40)\n",
    "x = kr.layers.Conv2D(25, (3, 3), strides=(1, 1), activation=\"relu\")(x) #(22, 22, 25)\n",
    "x = kr.layers.AveragePooling2D((2, 2))(x) #(11, 11, 25)\n",
    "\n",
    "x = kr.layers.Flatten()(x) #(11*11*25) = (3025)\n",
    "x = kr.layers.Dense(800, activation=\"relu\")(x) #(800)\n",
    "x = kr.layers.Dense(60, activation=\"relu\")(x) #(60)\n",
    "\n",
    "dense_mean = kr.layers.Dense(20, name=\"dense_mean\")(x) #(20)\n",
    "dense_log_std = kr.layers.Dense(20, name=\"dense_log_std\")(x) #(20)\n",
    "latent_space = kr.layers.Lambda(sampling, name=\"latent_space\")([dense_mean, dense_log_std]) #(20)\n",
    "\n",
    "encoder = kr.models.Model(inputs=input, outputs=[dense_mean, dense_log_std, latent_space])"
   ]
  },
  {
   "cell_type": "markdown",
   "id": "9fc4de3d-4929-4c6b-9ff8-a0e806df9715",
   "metadata": {
    "id": "9fc4de3d-4929-4c6b-9ff8-a0e806df9715"
   },
   "source": [
    "### 2.2 – Decoder part"
   ]
  },
  {
   "cell_type": "markdown",
   "id": "417d24c2-c705-4846-919e-453afc59bc2b",
   "metadata": {},
   "source": [
    "The decoder is the concatenation of 3 dense layers and 2 transposed convolutional layers (with upsampling). In the VAE structure, the decoder learns how to best reconstruct the input data."
   ]
  },
  {
   "cell_type": "code",
   "execution_count": 54,
   "id": "ee214b8b-b318-4b35-a833-d262f2f945b8",
   "metadata": {
    "colab": {
     "base_uri": "https://localhost:8080/",
     "height": 370
    },
    "executionInfo": {
     "elapsed": 18,
     "status": "error",
     "timestamp": 1728560337247,
     "user": {
      "displayName": "Tristan",
      "userId": "00489616346202208185"
     },
     "user_tz": -120
    },
    "id": "ee214b8b-b318-4b35-a833-d262f2f945b8",
    "outputId": "3e222294-e520-40e1-feb9-150c9170bb79"
   },
   "outputs": [],
   "source": [
    "input = kr.Input(shape=20)\n",
    "\n",
    "x = kr.layers.Dense(60, activation=\"relu\")(input) #(60)\n",
    "x = kr.layers.Dense(800, activation=\"relu\")(x) #(800)\n",
    "x = kr.layers.Dense(11*11*25, activation=\"relu\")(x) #(11*11*25) = (3025)\n",
    "x = kr.layers.Reshape((11, 11, 25))(x) #(11, 11, 25)\n",
    "\n",
    "x = kr.layers.UpSampling2D((2, 2))(x) #(22, 22, 25)\n",
    "x = kr.layers.Conv2DTranspose(40, (3, 3), strides=(1, 1), activation=\"relu\")(x) #(24, 24, 40)\n",
    "x = kr.layers.UpSampling2D((2, 2))(x) #(48, 48, 40)\n",
    "output = kr.layers.Conv2DTranspose(1, (3, 3), strides=(1, 1), activation=\"relu\")(x) #(50, 50, 1)\n",
    "\n",
    "decoder = kr.models.Model(inputs=input, outputs=output)"
   ]
  },
  {
   "cell_type": "markdown",
   "id": "dbc31b42-e296-4bb7-9a40-a8d6fab1af15",
   "metadata": {
    "id": "dbc31b42-e296-4bb7-9a40-a8d6fab1af15"
   },
   "source": [
    "### 2.3 – VAE"
   ]
  },
  {
   "cell_type": "markdown",
   "id": "5c1279b1-bd71-4e8d-8d98-7c5f8e2859bc",
   "metadata": {},
   "source": [
    "Finally, we connect the encoder and the decoder. Since we want the latent space to follow a normal distribution, our loss function will be\n",
    "$$\\lambda \\times MSE + D_{KL}(P||Q)$$\n",
    "where :\n",
    "- we assume that $P \\sim N(\\mu, \\Sigma)$ with $\\mu = \\begin{pmatrix} \\mu_1 \\\\ \\vdots \\\\ \\mu_d \\end{pmatrix}$ the output of *dense_mean* and $\\Sigma = \\begin{pmatrix} \\sigma^2_1 & 0 & \\cdots & 0 \\\\ 0 & \\sigma^2_2 & \\cdots & 0 \\\\ \\vdots & \\vdots & \\ddots & \\vdots \\\\ 0 & 0 & \\cdots & \\sigma^2_d \\end{pmatrix}$, where $\\log (\\sigma^2_1), \\dots, \\log (\\sigma^2_d)$ is the output of *dense_log_std*\n",
    "- $Q \\sim N(0_d, I_d)$\n",
    "- $D_{KL}(P||Q) = \\frac{1}{2} \\sum_{i=1}^d \\bigl[ \\mu_i^2 + \\sigma_i^2 - 1 - \\log (\\sigma_i^2) \\bigl]$ is the **Kullback-Leibler divergence** from $P$ (the latent space distribution) to $Q$ (the target distribution, a standard normal one here).\n",
    "- $\\lambda$ is a hyperparameter that we chose to set to 500."
   ]
  },
  {
   "cell_type": "code",
   "execution_count": 55,
   "id": "9698d56b-ce8d-410a-a8f4-5ba6456ea0a4",
   "metadata": {
    "executionInfo": {
     "elapsed": 16,
     "status": "aborted",
     "timestamp": 1728560337248,
     "user": {
      "displayName": "Tristan",
      "userId": "00489616346202208185"
     },
     "user_tz": -120
    },
    "id": "9698d56b-ce8d-410a-a8f4-5ba6456ea0a4"
   },
   "outputs": [],
   "source": [
    "input = kr.Input(shape=(height, width, 1))\n",
    "\n",
    "encoding_space = encoder(input)\n",
    "dense_mean = encoding_space[0]\n",
    "dense_log_std = encoding_space[1]\n",
    "latent_space = encoding_space[2]\n",
    "\n",
    "output = decoder(latent_space)\n",
    "\n",
    "vae = kr.models.Model(inputs=input, outputs=output)\n",
    "\n",
    "#building the loss function (with Kullback-Leibler divergence)\n",
    "KL = tf.reduce_mean(tf.math.square(dense_mean))\n",
    "KL = KL + tf.reduce_mean(tf.math.exp(dense_log_std))\n",
    "KL = KL - tf.reduce_mean(dense_log_std)\n",
    "KL = KL - 1\n",
    "KL = KL / 2\n",
    "\n",
    "custom_loss = 500 * kr.losses.mse(input, output) + KL\n",
    "vae.add_loss(custom_loss)\n",
    "\n",
    "#compiling the VAE\n",
    "vae.compile(optimizer=\"adam\", metrics=\"mse\")"
   ]
  },
  {
   "cell_type": "markdown",
   "id": "5c011a8d-c1a5-497b-8176-099530ccf925",
   "metadata": {
    "id": "5c011a8d-c1a5-497b-8176-099530ccf925"
   },
   "source": [
    "# 3 – Training the VAE"
   ]
  },
  {
   "cell_type": "code",
   "execution_count": 56,
   "id": "a77960d7-3c8a-4949-94bb-57e5a3493dbc",
   "metadata": {
    "executionInfo": {
     "elapsed": 16,
     "status": "aborted",
     "timestamp": 1728560337249,
     "user": {
      "displayName": "Tristan",
      "userId": "00489616346202208185"
     },
     "user_tz": -120
    },
    "id": "a77960d7-3c8a-4949-94bb-57e5a3493dbc"
   },
   "outputs": [
    {
     "name": "stdout",
     "output_type": "stream",
     "text": [
      "Epoch 1/10\n",
      "352/352 [==============================] - 64s 178ms/step - loss: 7.7337 - mse: 0.0147\n",
      "Epoch 2/10\n",
      "352/352 [==============================] - 63s 178ms/step - loss: 3.9246 - mse: 0.0065\n",
      "Epoch 3/10\n",
      "352/352 [==============================] - 63s 178ms/step - loss: 3.3703 - mse: 0.0054\n",
      "Epoch 4/10\n",
      "352/352 [==============================] - 63s 178ms/step - loss: 3.0984 - mse: 0.0049\n",
      "Epoch 5/10\n",
      "352/352 [==============================] - 63s 178ms/step - loss: 2.9190 - mse: 0.0045\n",
      "Epoch 6/10\n",
      "352/352 [==============================] - 63s 178ms/step - loss: 2.8010 - mse: 0.0043\n",
      "Epoch 7/10\n",
      "352/352 [==============================] - 63s 178ms/step - loss: 2.7232 - mse: 0.0041\n",
      "Epoch 8/10\n",
      "352/352 [==============================] - 63s 178ms/step - loss: 2.6471 - mse: 0.0040\n",
      "Epoch 9/10\n",
      "352/352 [==============================] - 62s 177ms/step - loss: 2.5922 - mse: 0.0039\n",
      "Epoch 10/10\n",
      "352/352 [==============================] - 61s 174ms/step - loss: 2.5487 - mse: 0.0038\n",
      "MSE on test data : 0.0046\n",
      "KL loss on test data : 0.6674\n"
     ]
    }
   ],
   "source": [
    "x_train = np.expand_dims(x_train, axis=-1) #(22500, 50, 50, 1)\n",
    "x_test = np.expand_dims(x_test, axis=-1) #(7500, 50, 50, 1)\n",
    "\n",
    "#some hyperparameters\n",
    "epochs = 10\n",
    "batch_size = 64\n",
    "\n",
    "vae.fit(x_train, x_train, epochs=epochs, batch_size=batch_size) #training the VAE\n",
    "\n",
    "#evaluating the model\n",
    "custom_loss, mse = vae.evaluate(x_test, x_test, verbose=0)\n",
    "KL = custom_loss - 500*mse\n",
    "print(\"MSE on test data :\", round(mse, 4))\n",
    "print(\"KL loss on test data :\", round(KL, 4))"
   ]
  },
  {
   "cell_type": "markdown",
   "id": "2e2ccef2-a04e-46c3-8a4c-3ed4cb05e365",
   "metadata": {
    "id": "2e2ccef2-a04e-46c3-8a4c-3ed4cb05e365"
   },
   "source": [
    "# 4 – Sound generation"
   ]
  },
  {
   "cell_type": "markdown",
   "id": "f9ece4fb-a7f6-4ed4-a02d-2c6ce07e17eb",
   "metadata": {},
   "source": [
    "The VAE is ready to use. We need to follow those steps.\n",
    "- Generate a random sample $\\sim N(0_d, I_d)$.\n",
    "- Apply the decoder that will return a mel spectrogram.\n",
    "- Transform the mel spectrogram into an audio signal.\n",
    "- Hear the result."
   ]
  },
  {
   "cell_type": "code",
   "execution_count": 65,
   "id": "404e5774-e99a-42af-b701-fb17880ec1f2",
   "metadata": {
    "executionInfo": {
     "elapsed": 15,
     "status": "aborted",
     "timestamp": 1728560337249,
     "user": {
      "displayName": "Tristan",
      "userId": "00489616346202208185"
     },
     "user_tz": -120
    },
    "id": "404e5774-e99a-42af-b701-fb17880ec1f2"
   },
   "outputs": [
    {
     "data": {
      "text/html": [
       "\n",
       "                <audio  controls=\"controls\" >\n",
       "                    <source src=\"data:audio/wav;base64,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\" type=\"audio/wav\" />\n",
       "                    Your browser does not support the audio element.\n",
       "                </audio>\n",
       "              "
      ],
      "text/plain": [
       "<IPython.lib.display.Audio object>"
      ]
     },
     "execution_count": 65,
     "metadata": {},
     "output_type": "execute_result"
    }
   ],
   "source": [
    "sample = np.random.randn(20) #(20) / each component ~N(0, I)\n",
    "sample = np.expand_dims(sample, axis=0) #(1, 20)\n",
    "generated_S = decoder.predict(sample, verbose=0) #(1, 50, 50, 1)\n",
    "generated_S = np.squeeze(generated_S) #(50, 50)\n",
    "generated_S = generated_S * (max_values-min_values) + min_values #denormalization\n",
    "\n",
    "#mel spectrogram to audio signal\n",
    "generated_S = lb.db_to_power(generated_S)\n",
    "generated_signal = lb.feature.inverse.mel_to_audio(generated_S, hop_length=hop_length)\n",
    "\n",
    "Audio(data=generated_signal, rate=sr)"
   ]
  }
 ],
 "metadata": {
  "accelerator": "GPU",
  "colab": {
   "gpuType": "T4",
   "provenance": []
  },
  "kernelspec": {
   "display_name": "Python 3 (ipykernel)",
   "language": "python",
   "name": "python3"
  },
  "language_info": {
   "codemirror_mode": {
    "name": "ipython",
    "version": 3
   },
   "file_extension": ".py",
   "mimetype": "text/x-python",
   "name": "python",
   "nbconvert_exporter": "python",
   "pygments_lexer": "ipython3",
   "version": "3.12.3"
  }
 },
 "nbformat": 4,
 "nbformat_minor": 5
}
